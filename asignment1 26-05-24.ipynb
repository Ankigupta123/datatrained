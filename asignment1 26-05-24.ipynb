{
 "cells": [
  {
   "cell_type": "code",
   "execution_count": 5,
   "id": "a2d1a952",
   "metadata": {},
   "outputs": [
    {
     "ename": "IndentationError",
     "evalue": "unexpected indent (3909400652.py, line 3)",
     "output_type": "error",
     "traceback": [
      "\u001b[1;36m  Cell \u001b[1;32mIn[5], line 3\u001b[1;36m\u001b[0m\n\u001b[1;33m    return age\u001b[0m\n\u001b[1;37m    ^\u001b[0m\n\u001b[1;31mIndentationError\u001b[0m\u001b[1;31m:\u001b[0m unexpected indent\n"
     ]
    }
   ],
   "source": [
    "def get_age(year_of_birth):\n",
    "   name=int(input(\"Enter your birth year= \"))\n",
    "    return age\n",
    "\n",
    "def gender_premium(gender):\n",
    "    gender=input (\"Enter your gender= \")\n",
    "    if gender == 'male':\n",
    "        return male\n",
    "    elif gender() == 'female':\n",
    "        return female\n",
    "    \n",
    "\n",
    "def smoker_premium(smoker):\n",
    "    smoker= input(\"Are you smoker or not\")\n",
    "    if smoker == 'yes':\n",
    "        return 1\n",
    "    elif smoker == 'no':\n",
    "        return 0\n",
    "    \n",
    "def calculate_premium(gender, year_of_birth, smoker):\n",
    "   \n",
    "    \n",
    "    # Determine premium based on the specified criteria\n",
    "    if gender== 'male':\n",
    "        if 1990 <= year_of_birth <= 2000:\n",
    "            if smoker() == 'yes':\n",
    "                print(\"Your annual premium is Rs 35000\")\n",
    "                return 1\n",
    "            elif smoker() == 'no':\n",
    "                discounted_price = 35000 * 0.90\n",
    "                print(f\"Your annual premium is Rs {discounted_price:.2f} after a 10% discount\")\n",
    "                return 1\n",
    "        elif 1970 <= year_of_birth < 1990:\n",
    "            if smoker == 'yes':\n",
    "                print(\"Your annual premium is Rs 40000\")\n",
    "                return 1\n",
    "            elif smoker == 'no':\n",
    "                discounted_price = 40000 * 0.95\n",
    "                print(f\"Your annual premium is Rs {discounted_price:.2f} after a 5% discount\")\n",
    "                return 1\n",
    "    elif gender == 'female':\n",
    "        if 1990 <= year_of_birth <= 2000:\n",
    "            if smoker== 'yes':\n",
    "                print(\"Your annual premium is Rs 30000\")\n",
    "                return 1\n",
    "            elif smoker == 'no':\n",
    "                discounted_price = 30000 * 0.90\n",
    "                print(f\"Your annual premium is Rs {discounted_price:.2f} after a 10% discount\")\n",
    "                return 1\n",
    "        elif 1970 <= year_of_birth < 1990:\n",
    "            if smoker== 'yes':\n",
    "                print(\"Your annual premium is Rs 35000\")\n",
    "                return 1\n",
    "            elif smoker== 'no':\n",
    "                discounted_price = 35000 * 0.95\n",
    "                print(f\"Your annual premium is Rs {discounted_price:.2f} after a 5% discount\")\n",
    "                return 1\n",
    "\n",
    "    # If the criteria do not match any of the conditions provided\n",
    "    print(\"Criteria do not match any of the specified conditions.\")\n",
    "    return 0\n",
    "\n",
    "\n",
    "\n",
    "result = calculate_premium(gender, year_of_birth, smoker)"
   ]
  },
  {
   "cell_type": "code",
   "execution_count": null,
   "id": "baca115d",
   "metadata": {},
   "outputs": [],
   "source": []
  }
 ],
 "metadata": {
  "kernelspec": {
   "display_name": "Python 3 (ipykernel)",
   "language": "python",
   "name": "python3"
  },
  "language_info": {
   "codemirror_mode": {
    "name": "ipython",
    "version": 3
   },
   "file_extension": ".py",
   "mimetype": "text/x-python",
   "name": "python",
   "nbconvert_exporter": "python",
   "pygments_lexer": "ipython3",
   "version": "3.11.5"
  }
 },
 "nbformat": 4,
 "nbformat_minor": 5
}
